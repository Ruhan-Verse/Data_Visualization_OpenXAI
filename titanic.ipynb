{
 "cells": [
  {
   "cell_type": "code",
   "execution_count": null,
   "id": "bb6f0359",
   "metadata": {},
   "outputs": [],
   "source": [
    "import pandas as pd\n",
    "import seaborn as sns\n",
    "import matplotlib.pyplot as plt"
   ]
  },
  {
   "cell_type": "code",
   "execution_count": null,
   "id": "6e49a463",
   "metadata": {},
   "outputs": [],
   "source": [
    "df = pd.read_csv(\"titanic-dataset.csv\")"
   ]
  },
  {
   "cell_type": "code",
   "execution_count": null,
   "id": "ab43077d",
   "metadata": {},
   "outputs": [],
   "source": [
    "print(df.head())\n",
    "print(df.info())\n",
    "print(df.describe())"
   ]
  },
  {
   "cell_type": "code",
   "execution_count": null,
   "id": "8d86c92b",
   "metadata": {},
   "outputs": [],
   "source": [
    "df['Age'].fillna(df['Age'].median(), inplace=True)"
   ]
  },
  {
   "cell_type": "code",
   "execution_count": null,
   "id": "dbecb96f",
   "metadata": {},
   "outputs": [],
   "source": [
    "plt.figure(figsize=(6,4))\n",
    "sns.countplot(data=df, x='Sex', hue='Survived', palette='pastel')\n",
    "plt.title('Survival by Sex')\n",
    "plt.ylabel('Count')\n",
    "plt.xlabel('Sex')\n",
    "plt.legend(title='Survived', loc='best')\n",
    "plt.savefig(\"screenshots/survival_by_sex.png\")\n",
    "plt.show()\n"
   ]
  },
  {
   "cell_type": "code",
   "execution_count": null,
   "id": "3879db99",
   "metadata": {},
   "outputs": [],
   "source": [
    "plt.figure(figsize=(6,4))\n",
    "sns.countplot(data=df, x='Pclass', hue='Survived', palette='Set2')\n",
    "plt.title('Survival by Passenger Class')\n",
    "plt.ylabel('Count')\n",
    "plt.xlabel('Class')\n",
    "plt.savefig(\"screenshots/survival_by_pclass.png\")\n",
    "plt.show()\n"
   ]
  },
  {
   "cell_type": "code",
   "execution_count": null,
   "id": "f1784673",
   "metadata": {},
   "outputs": [],
   "source": [
    "plt.figure(figsize=(8,5))\n",
    "sns.kdeplot(df[df['Survived']==1]['Age'], shade=True, label='Survived')\n",
    "sns.kdeplot(df[df['Survived']==0]['Age'], shade=True, label='Did not survive')\n",
    "plt.title('Age Distribution: Survived vs Not')\n",
    "plt.xlabel('Age')\n",
    "plt.legend()\n",
    "plt.savefig(\"screenshots/age_distribution.png\")\n",
    "plt.show()\n"
   ]
  },
  {
   "cell_type": "code",
   "execution_count": null,
   "id": "cb641770",
   "metadata": {},
   "outputs": [],
   "source": [
    "plt.figure(figsize=(8,5))\n",
    "sns.boxplot(data=df, x='Survived', y='Fare', palette='coolwarm')\n",
    "plt.title('Fare Paid: Survived vs Not')\n",
    "plt.xlabel('Survived')\n",
    "plt.ylabel('Fare')\n",
    "plt.savefig(\"screenshots/fare_boxplot.png\")\n",
    "plt.show()\n"
   ]
  },
  {
   "cell_type": "code",
   "execution_count": null,
   "id": "b5cdc9d6",
   "metadata": {},
   "outputs": [],
   "source": [
    "g = sns.FacetGrid(df, col='Sex', row='Pclass', hue='Survived', margin_titles=True)\n",
    "g.map(sns.kdeplot, 'Age', shade=True).add_legend()\n",
    "plt.subplots_adjust(top=0.9)\n",
    "g.fig.suptitle('Age Distribution by Sex & Pclass with Survival')\n",
    "g.savefig(\"screenshots/age_facetgrid.png\")\n",
    "plt.show()\n"
   ]
  },
  {
   "cell_type": "code",
   "execution_count": null,
   "id": "aea8a142",
   "metadata": {},
   "outputs": [],
   "source": [
    "g = sns.FacetGrid(df, col='Sex', row='Pclass', hue='Survived', margin_titles=True)\n",
    "g.map(sns.kdeplot, 'Age', shade=True).add_legend()\n",
    "plt.subplots_adjust(top=0.9)\n",
    "g.fig.suptitle('Age Distribution by Sex & Pclass with Survival')\n",
    "plt.show()"
   ]
  }
 ],
 "metadata": {
  "kernelspec": {
   "display_name": "myenv",
   "language": "python",
   "name": "python3"
  },
  "language_info": {
   "codemirror_mode": {
    "name": "ipython",
    "version": 3
   },
   "file_extension": ".py",
   "mimetype": "text/x-python",
   "name": "python",
   "nbconvert_exporter": "python",
   "pygments_lexer": "ipython3",
   "version": "3.13.2"
  }
 },
 "nbformat": 4,
 "nbformat_minor": 5
}
